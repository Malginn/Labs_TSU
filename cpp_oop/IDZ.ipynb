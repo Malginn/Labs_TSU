{
 "cells": [
  {
   "attachments": {},
   "cell_type": "markdown",
   "metadata": {},
   "source": [
    "# Задача 1.\n",
    "Построить по имеющимся данным интервальный вариационный ряд с равными интервалами, начертить гистограмму, найти среднее значение, дисперсию, коэффициент вариации и размах вариации:\n",
    "\n",
    "\n",
    "\n",
    "*Данные в файле data.txt\n"
   ]
  },
  {
   "cell_type": "code",
   "execution_count": 123,
   "metadata": {},
   "outputs": [],
   "source": [
    "import pandas as pd\n",
    "import numpy as np\n",
    "import matplotlib.pyplot as plt\n",
    "from scipy import stats"
   ]
  },
  {
   "cell_type": "code",
   "execution_count": 124,
   "metadata": {},
   "outputs": [],
   "source": [
    "def variance(aver, data):\n",
    "    deviations = [(x - aver) ** 2 for x in data]\n",
    "\n",
    "    return sum(deviations) / len(data)"
   ]
  },
  {
   "cell_type": "code",
   "execution_count": 125,
   "metadata": {},
   "outputs": [
    {
     "name": "stdout",
     "output_type": "stream",
     "text": [
      "Type of data: <class 'list'>\n",
      "Data: [0.46, 0.52, 0.57, 0.61, 0.62]\n",
      "Size: 52\n"
     ]
    }
   ],
   "source": [
    "with open('./data.txt', encoding='utf-8') as file:\n",
    "    sent = file.read()\n",
    "\n",
    "sent = sent.replace(',', '.')\n",
    "sent = sent.replace('  ', ',')\n",
    "sent = sent[:-2]\n",
    "\n",
    "data = sent.split(',')\n",
    "data = sorted(list(map(float, data)))\n",
    "\n",
    "print(f'Type of data: {type(data)}\\nData: {data[:5]}\\nSize: {len(data)}')"
   ]
  },
  {
   "cell_type": "code",
   "execution_count": 126,
   "metadata": {},
   "outputs": [],
   "source": [
    "split_data = np.array_split(data, 7)"
   ]
  },
  {
   "cell_type": "code",
   "execution_count": 127,
   "metadata": {},
   "outputs": [
    {
     "name": "stdout",
     "output_type": "stream",
     "text": [
      "0.46 - 0.71 | 9\n",
      "-------------\n",
      "0.71 - 0.78 | 7\n",
      "-------------\n",
      "0.81 - 0.89 | 9\n",
      "-------------\n",
      "0.89 - 0.94 | 6\n",
      "-------------\n",
      "0.96 - 1.02 | 8\n",
      "-------------\n",
      "1.02 - 1.08 | 6\n",
      "-------------\n",
      "1.09 - 1.33 | 7\n",
      "-------------\n"
     ]
    }
   ],
   "source": [
    "var_raw = {}\n",
    "maxes = [i[-1] for i in split_data]\n",
    "mins = [i[0] for i in split_data]\n",
    "\n",
    "for dist in split_data:\n",
    "    var_raw[f'{min(dist)} - {max(dist)}'] = 0\n",
    "\n",
    "for i in data:\n",
    "    for idx_max_min, max_ in enumerate(maxes):\n",
    "        min_ = mins[idx_max_min]\n",
    "        if i >= min_ and i <= max_:\n",
    "            #берем элемент словаря по индексу\n",
    "            var_raw[f'{list(var_raw.keys())[idx_max_min]}'] += 1\n",
    "            break\n",
    "\n",
    "\n",
    "for key, value in var_raw.items():\n",
    "    print(key, '|', value)\n",
    "    print('-------------')"
   ]
  },
  {
   "cell_type": "code",
   "execution_count": 128,
   "metadata": {},
   "outputs": [
    {
     "data": {
      "image/png": "[encoded data removed]",
      "text/plain": [
       "<Figure size 720x720 with 1 Axes>"
      ]
     },
     "metadata": {
      "needs_background": "light"
     },
     "output_type": "display_data"
    }
   ],
   "source": [
    "# plot\n",
    "fig, ax = plt.subplots()\n",
    "fig.set_figheight(10)\n",
    "fig.set_figwidth(10)\n",
    "ax.bar(var_raw.keys(), var_raw.values(), width=0.8, edgecolor=\"white\", linewidth=0.7)\n",
    "ax.set(xlim=(0, 8), xticks=np.arange(0, 9),\n",
    "       ylim=(0, 8), yticks=np.arange(1, 11))\n",
    "\n",
    "\n",
    "plt.show()"
   ]
  },
  {
   "cell_type": "code",
   "execution_count": 129,
   "metadata": {},
   "outputs": [
    {
     "name": "stdout",
     "output_type": "stream",
     "text": [
      "Среднее значение: 0.8963461538461538\n",
      "Дисперсия: 0.034969341715976335\n",
      "Коэффициент вариации: 3.9013211096991407%\n",
      "Размах вариации: 0.8700000000000001\n"
     ]
    }
   ],
   "source": [
    "average = sum(data) / len(data)\n",
    "var = variance(average, data)\n",
    "cv = (var / average) * 100\n",
    "\n",
    "print(f'Среднее значение: {average}')\n",
    "print(f'Дисперсия: {var}')\n",
    "print(f'Коэффициент вариации: {cv}%')\n",
    "print(f'Размах вариации: {max(data) - min(data)}')"
   ]
  },
  {
   "attachments": {},
   "cell_type": "markdown",
   "metadata": {},
   "source": [
    "# Задача 2.\n",
    "Постройте кумулятивный ряд, начертите кумулянту, найдите моду и медиану."
   ]
  },
  {
   "cell_type": "code",
   "execution_count": 148,
   "metadata": {},
   "outputs": [
    {
     "name": "stdout",
     "output_type": "stream",
     "text": [
      "1.6-2.0 | 3\n",
      "-------------\n",
      "2.0-2.4 | 8\n",
      "-------------\n",
      "2.4-2.8 | 15\n",
      "-------------\n",
      "2.8-3.2 | 25\n",
      "-------------\n",
      "3.2-3.6 | 31\n",
      "-------------\n",
      "3.6-4.0 | 34\n",
      "-------------\n"
     ]
    }
   ],
   "source": [
    "#кумулятивный ряд\n",
    "data_2 = {\n",
    "    '1.6-2.0': 3,\n",
    "    '2.0-2.4': 5,\n",
    "    '2.4-2.8': 7,\n",
    "    '2.8-3.2': 10,\n",
    "    '3.2-3.6': 6,\n",
    "    '3.6-4.0': 3\n",
    "}\n",
    "\n",
    "data_cum = {}\n",
    "data_values = list(data_2.values())\n",
    "\n",
    "data_cum_value = np.cumsum(data_values)\n",
    "iter = 0\n",
    "\n",
    "for key in data_2.keys():\n",
    "    data_cum[f'{key}'] = data_cum_value[iter]\n",
    "    iter += 1\n",
    "\n",
    "\n",
    "for key, value in data_cum.items():\n",
    "    print(key, '|', value)\n",
    "    print('-------------')"
   ]
  },
  {
   "attachments": {},
   "cell_type": "markdown",
   "metadata": {},
   "source": [
    "График кумулянты, мода и медиана"
   ]
  },
  {
   "cell_type": "code",
   "execution_count": 149,
   "metadata": {},
   "outputs": [
    {
     "name": "stdout",
     "output_type": "stream",
     "text": [
      "Мода: ModeResult(mode=array([3]), count=array([2]))\n",
      "Медиана: 5.5\n"
     ]
    },
    {
     "data": {
      "image/png": "[encoded data removed]",
      "text/plain": [
       "<Figure size 504x504 with 1 Axes>"
      ]
     },
     "metadata": {
      "needs_background": "light"
     },
     "output_type": "display_data"
    }
   ],
   "source": [
    "plt.figure(figsize=(7, 7))\n",
    "plt.plot(data_cum.keys(), data_cum.values())\n",
    "plt.plot(data_cum.keys(), data_cum.values(),'ro')\n",
    "\n",
    "\n",
    "mode = stats.mode(data_values)\n",
    "median = np.median(data_values)\n",
    "\n",
    "print(f'Мода: {mode}')\n",
    "print(f'Медиана: {median}')\n",
    "\n",
    "# plt.axvline(median / 100 * 6, color='g', label='median')\n",
    "# plt.axvline(mode / 100 * 6, color='r', label='mode')\n",
    "# plt.axvline(x=0.22058956)\n",
    "\n",
    "plt.show()"
   ]
  },
  {
   "attachments": {},
   "cell_type": "markdown",
   "metadata": {},
   "source": [
    "# Задание 3.\n",
    "Две группы рабочих изготавливают одинаковую продукцию. Для каждой из этих групп даны ряды распределения рабочих по числу изготавливаемых за смену деталей (см. таблицу). Вычислить для каждой группы выборочные характеристики: среднюю, дисперсию, среднее квадратическое отклонение, коэффициент вариации. Дать характеристику среднего уровня производительности труда в группах."
   ]
  },
  {
   "cell_type": "code",
   "execution_count": 150,
   "metadata": {},
   "outputs": [
    {
     "data": {
      "text/html": [
       "<div>\n",
       "<style scoped>\n",
       "    .dataframe tbody tr th:only-of-type {\n",
       "        vertical-align: middle;\n",
       "    }\n",
       "\n",
       "    .dataframe tbody tr th {\n",
       "        vertical-align: top;\n",
       "    }\n",
       "\n",
       "    .dataframe thead th {\n",
       "        text-align: right;\n",
       "    }\n",
       "</style>\n",
       "<table border=\"1\" class=\"dataframe\">\n",
       "  <thead>\n",
       "    <tr style=\"text-align: right;\">\n",
       "      <th></th>\n",
       "      <th>ngroup</th>\n",
       "      <th>details</th>\n",
       "      <th>mans</th>\n",
       "    </tr>\n",
       "  </thead>\n",
       "  <tbody>\n",
       "    <tr>\n",
       "      <th>0</th>\n",
       "      <td>1</td>\n",
       "      <td>15</td>\n",
       "      <td>2</td>\n",
       "    </tr>\n",
       "    <tr>\n",
       "      <th>1</th>\n",
       "      <td>1</td>\n",
       "      <td>18</td>\n",
       "      <td>1</td>\n",
       "    </tr>\n",
       "    <tr>\n",
       "      <th>2</th>\n",
       "      <td>1</td>\n",
       "      <td>20</td>\n",
       "      <td>7</td>\n",
       "    </tr>\n",
       "    <tr>\n",
       "      <th>3</th>\n",
       "      <td>2</td>\n",
       "      <td>15</td>\n",
       "      <td>2</td>\n",
       "    </tr>\n",
       "    <tr>\n",
       "      <th>4</th>\n",
       "      <td>2</td>\n",
       "      <td>18</td>\n",
       "      <td>2</td>\n",
       "    </tr>\n",
       "    <tr>\n",
       "      <th>5</th>\n",
       "      <td>2</td>\n",
       "      <td>20</td>\n",
       "      <td>10</td>\n",
       "    </tr>\n",
       "  </tbody>\n",
       "</table>\n",
       "</div>"
      ],
      "text/plain": [
       "   ngroup  details  mans\n",
       "0       1       15     2\n",
       "1       1       18     1\n",
       "2       1       20     7\n",
       "3       2       15     2\n",
       "4       2       18     2\n",
       "5       2       20    10"
      ]
     },
     "execution_count": 150,
     "metadata": {},
     "output_type": "execute_result"
    }
   ],
   "source": [
    "df = pd.read_csv('./file.csv')\n",
    "df"
   ]
  },
  {
   "cell_type": "code",
   "execution_count": 153,
   "metadata": {},
   "outputs": [
    {
     "name": "stdout",
     "output_type": "stream",
     "text": [
      "Среднее значение:\n",
      "          details      mans\n",
      "ngroup                     \n",
      "1       17.666667  3.333333\n",
      "2       17.666667  4.666667 \n",
      "\n",
      "Дисперсия\n",
      "         details       mans\n",
      "ngroup                     \n",
      "1       6.333333  10.333333\n",
      "2       6.333333  21.333333 \n",
      "\n",
      "СКО\n",
      "         details      mans\n",
      "ngroup                    \n",
      "1       2.516611  3.214550\n",
      "2       2.516611  4.618802 \n",
      "\n",
      "Коэффициент вариации\n",
      "        details      mans\n",
      "ngroup                   \n",
      "1       0.14245  0.964365\n",
      "2       0.14245  0.989743\n"
     ]
    }
   ],
   "source": [
    "#Целевая переменная - details\n",
    "\n",
    "print('Среднее значение:')\n",
    "print(df.groupby('ngroup').mean(), '\\n')\n",
    "print('Дисперсия')\n",
    "print(df.groupby('ngroup').var(), '\\n')\n",
    "print('СКО')\n",
    "print(df.groupby('ngroup').std(), '\\n')\n",
    "print('Коэффициент вариации')\n",
    "print(df.groupby('ngroup').std() /\n",
    "       df.groupby('ngroup').mean())"
   ]
  },
  {
   "cell_type": "code",
   "execution_count": 154,
   "metadata": {},
   "outputs": [
    {
     "name": "stdout",
     "output_type": "stream",
     "text": [
      "Средний уровень производительности рабочих\n",
      "ngroup\n",
      "1    5.300000\n",
      "2    3.785714\n",
      "dtype: float64\n"
     ]
    }
   ],
   "source": [
    "#расчет среднего уровня производительности труда работника\n",
    "w = df.groupby('ngroup').sum()\n",
    "w = w['details'] / w['mans']\n",
    "\n",
    "print('Средний уровень производительности рабочих')\n",
    "print(w)"
   ]
  },
  {
   "attachments": {},
   "cell_type": "markdown",
   "metadata": {},
   "source": [
    "# Задача 4\n",
    "https://studopedia.ru/5_84510_tipovaya-zadacha--.html"
   ]
  },
  {
   "attachments": {},
   "cell_type": "markdown",
   "metadata": {},
   "source": [
    "# Задача 6\n",
    "https://studfile.net/preview/2115367/page:24/"
   ]
  },
  {
   "attachments": {},
   "cell_type": "markdown",
   "metadata": {},
   "source": [
    "# Задача 7\n",
    "В опытном хозяйстве на протяжении 32 месяцев отмечали расходы на механизацию работ (X , тыс. р.) и полученные привесы всего скота (Y, ц). Установили, что имеет место прямая корреляционная зависимость между ними: r= 0,8. Проверить значимость этой связи при = 0,05. Написать уравнение линейной регрессии и объяснить его, если известно, что выборочные средние квадратические отклонения соответственно равны: s=3,2 тыс. р., s= 8 ц, а средние значения:  = 8 тыс. p.,  = 40 ц."
   ]
  },
  {
   "attachments": {},
   "cell_type": "markdown",
   "metadata": {},
   "source": [
    "Решение:\n",
    "\n",
    "H0 - линейная зависимость незначимая p = 0\n",
    "\n",
    "H - линейная зависимость значимая p != 0"
   ]
  },
  {
   "cell_type": "code",
   "execution_count": 161,
   "metadata": {},
   "outputs": [
    {
     "name": "stdout",
     "output_type": "stream",
     "text": [
      "Принимаем гипотезу H1, т.к. -2.04 < 9.465727652959387 < 2.04 - ложное утверждение\n"
     ]
    }
   ],
   "source": [
    "#mex - т.р  scot - ц\n",
    "alpha = 0.05\n",
    "n = 32\n",
    "r = 0.8\n",
    "std_mex = 3.2\n",
    "std_scot = 8\n",
    "mean_mex = 8\n",
    "mean_scot = 40\n",
    "\n",
    "\n",
    "k = n - 2 #т.к. оцениваем только один критерий - коэфиициент корреляции\n",
    "krit = 2.04 #по таблице критические точки распределения стьюдента\n",
    "\n",
    "T = (r * (k - 2) ** 0.5) / (1 - r) ** 0.5\n",
    "if (T > -krit) and T < (krit):\n",
    "    print(f'Принимаем гипотезу H0, т.к. {-krit} < {T} < {krit}')\n",
    "else:\n",
    "    print(f'Принимаем гипотезу H1, т.к. {-krit} < {T} < {krit} - ложное утверждение')"
   ]
  },
  {
   "attachments": {},
   "cell_type": "markdown",
   "metadata": {},
   "source": [
    "# Построим уравнение регресии"
   ]
  },
  {
   "cell_type": "code",
   "execution_count": 163,
   "metadata": {},
   "outputs": [
    {
     "name": "stdout",
     "output_type": "stream",
     "text": [
      "2.0 24.0\n"
     ]
    }
   ],
   "source": [
    "b1 = (std_scot / std_mex) * r   #slope\n",
    "b0 = mean_scot - b1 * mean_mex  #intercept\n",
    "print(b1, b0)"
   ]
  },
  {
   "cell_type": "code",
   "execution_count": 177,
   "metadata": {},
   "outputs": [
    {
     "data": {
      "text/plain": [
       "[<matplotlib.lines.Line2D at 0x253b68ce160>]"
      ]
     },
     "execution_count": 177,
     "metadata": {},
     "output_type": "execute_result"
    },
    {
     "data": {
      "image/png": "[encoded data removed]",
      "text/plain": [
       "<Figure size 504x504 with 1 Axes>"
      ]
     },
     "metadata": {
      "needs_background": "light"
     },
     "output_type": "display_data"
    }
   ],
   "source": [
    "x = np.linspace(1, 32)\n",
    "y = b0 + x * b1\n",
    "\n",
    "\n",
    "plt.figure(figsize=(7, 7))\n",
    "plt.plot(x,  y)"
   ]
  },
  {
   "cell_type": "code",
   "execution_count": null,
   "metadata": {},
   "outputs": [],
   "source": []
  }
 ],
 "metadata": {
  "kernelspec": {
   "display_name": "base",
   "language": "python",
   "name": "python3"
  },
  "language_info": {
   "codemirror_mode": {
    "name": "ipython",
    "version": 3
   },
   "file_extension": ".py",
   "mimetype": "text/x-python",
   "name": "python",
   "nbconvert_exporter": "python",
   "pygments_lexer": "ipython3",
   "version": "3.9.7"
  },
  "orig_nbformat": 4
 },
 "nbformat": 4,
 "nbformat_minor": 2
}
